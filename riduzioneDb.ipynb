{
 "cells": [
  {
   "cell_type": "code",
   "execution_count": 5,
   "metadata": {},
   "outputs": [],
   "source": [
    "import csv\n",
    "\n",
    "# Apri il file CSV in modalità di lettura\n",
    "with open('/home/chiara/archive/flights.csv', 'r') as csvfile:\n",
    "    # Crea un oggetto lettore CSV\n",
    "    csvreader = csv.reader(csvfile)\n",
    "\n",
    "    # Salta l'intestazione (se presente)\n",
    "    #next(csvreader)\n",
    "\n",
    "    # Inizializza un contatore per tenere traccia delle righe lette\n",
    "    count = 0\n",
    "\n",
    "    # Crea un nuovo file CSV in modalità di scrittura\n",
    "    with open('/home/chiara/archive/output_file.csv', 'w', newline='') as output_csvfile:\n",
    "        # Crea un oggetto scrittore CSV\n",
    "        csvwriter = csv.writer(output_csvfile)\n",
    "        \n",
    "        # Scrivi le prime 50 righe nel nuovo file\n",
    "        for row in csvreader:\n",
    "            if count < 50:\n",
    "                csvwriter.writerow(row)\n",
    "                count += 1\n",
    "            else:\n",
    "                break\n"
   ]
  },
  {
   "attachments": {},
   "cell_type": "markdown",
   "metadata": {},
   "source": [
    "YEAR,MONTH,DAY,DAY_OF_WEEK,AIRLINE,FLIGHT_NUMBER,TAIL_NUMBER,ORIGIN_AIRPORT,DESTINATION_AIRPORT,    9\n",
    "SCHEDULED_DEPARTURE,DEPARTURE_TIME,     11\n",
    "DEPARTURE_DELAY,TAXI_OUT, 13\n",
    "WHEELS_OFF, 14\n",
    "SCHEDULED_TIME,ELAPSED_TIME,AIR_TIME, 17\n",
    "DISTANCE, 18\n",
    "WHEELS_ON, 19\n",
    "TAXI_IN, 20\n",
    "SCHEDULED_ARRIVAL,ARRIVAL_TIME, 22\n",
    "ARRIVAL_DELAY,DIVERTED,CANCELLED,CANCELLATION_REASON,AIR_SYSTEM_DELAY,SECURITY_DELAY,AIRLINE_DELAY,LATE_AIRCRAFT_DELAY,WEATHER_DELAY\n"
   ]
  },
  {
   "cell_type": "code",
   "execution_count": 5,
   "metadata": {},
   "outputs": [],
   "source": [
    "import csv\n",
    "\n",
    "# Apri il file CSV in modalità di lettura\n",
    "with open('/home/matteo/Scaricati/archive/flights.csv', 'r') as csvfile:\n",
    "    # Crea un oggetto lettore CSV\n",
    "    csvreader = csv.reader(csvfile)\n",
    "\n",
    "    # Salta l'intestazione (se presente)\n",
    "    #next(csvreader)\n",
    "\n",
    "    # Inizializza un contatore per tenere traccia delle righe lette\n",
    "    count = 0\n",
    "\n",
    "    # Crea un nuovo file CSV in modalità di scrittura\n",
    "    with open('/home/matteo/Documenti/GitHub/ProgettoBig/flask_app/dataset/timestamp.csv', 'w', newline='') as timestamp_csvfile:\n",
    "        # Crea un oggetto scrittore CSV\n",
    "        csvwriterTimestamp = csv.writer(timestamp_csvfile)\n",
    "\n",
    "        with open('/home/matteo/Documenti/GitHub/ProgettoBig/flask_app/dataset/times.csv', 'w', newline='') as times_csvfile:\n",
    "            csvwriterTimes = csv.writer(times_csvfile)\n",
    "\n",
    "        # Scrivi le prime 50 righe nel nuovo file\n",
    "            for row in csvreader:\n",
    "                if count < 50:\n",
    "                    #colonne da separare\n",
    "                    rowTimes = row[:9]+row[12:14]+row[15:19]+row[20]\n",
    "                    rowTimestamp = row[:9]+row[9:11]+row[14]+row[18:20]+row[21:23]\n",
    "                    csvwriterTimestamp.writerow(row[0])\n",
    "                    csvwriterTimes.writerow(row[1])\n",
    "                    count += 1\n",
    "                else:\n",
    "                    break"
   ]
  }
 ],
 "metadata": {
  "kernelspec": {
   "display_name": "Python 3",
   "language": "python",
   "name": "python3"
  },
  "language_info": {
   "codemirror_mode": {
    "name": "ipython",
    "version": 3
   },
   "file_extension": ".py",
   "mimetype": "text/x-python",
   "name": "python",
   "nbconvert_exporter": "python",
   "pygments_lexer": "ipython3",
   "version": "3.10.6"
  },
  "orig_nbformat": 4
 },
 "nbformat": 4,
 "nbformat_minor": 2
}
