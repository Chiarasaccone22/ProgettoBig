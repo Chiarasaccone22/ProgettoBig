{
 "cells": [
  {
   "cell_type": "code",
   "execution_count": 5,
   "metadata": {},
   "outputs": [],
   "source": [
    "import csv\n",
    "\n",
    "# Apri il file CSV in modalità di lettura\n",
    "with open('/home/matteo/Scaricati/archive/flights.csv', 'r') as csvfile:\n",
    "    # Crea un oggetto lettore CSV\n",
    "    csvreader = csv.reader(csvfile)\n",
    "\n",
    "    # Salta l'intestazione (se presente)\n",
    "    #next(csvreader)\n",
    "\n",
    "    # Inizializza un contatore per tenere traccia delle righe lette\n",
    "    count = 0\n",
    "\n",
    "    # Crea un nuovo file CSV in modalità di scrittura\n",
    "    with open('/home/matteo/Scaricati/archive/output_file.csv', 'w', newline='') as output_csvfile:\n",
    "        # Crea un oggetto scrittore CSV\n",
    "        csvwriter = csv.writer(output_csvfile)\n",
    "        \n",
    "        # Scrivi le prime 50 righe nel nuovo file\n",
    "        for row in csvreader:\n",
    "            if count < 50:\n",
    "                csvwriter.writerow(row)\n",
    "                count += 1\n",
    "            else:\n",
    "                break\n"
   ]
  }
 ],
 "metadata": {
  "kernelspec": {
   "display_name": "Python 3",
   "language": "python",
   "name": "python3"
  },
  "language_info": {
   "codemirror_mode": {
    "name": "ipython",
    "version": 3
   },
   "file_extension": ".py",
   "mimetype": "text/x-python",
   "name": "python",
   "nbconvert_exporter": "python",
   "pygments_lexer": "ipython3",
   "version": "3.10.6"
  },
  "orig_nbformat": 4
 },
 "nbformat": 4,
 "nbformat_minor": 2
}
